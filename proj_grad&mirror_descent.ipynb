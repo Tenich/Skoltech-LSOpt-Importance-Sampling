{
 "cells": [
  {
   "cell_type": "code",
   "execution_count": 162,
   "metadata": {
    "collapsed": true
   },
   "outputs": [],
   "source": [
    "import numpy as np\n",
    "\n",
    "import seaborn as sns\n",
    "\n",
    "%matplotlib inline\n",
    "import matplotlib.pyplot as plt"
   ]
  },
  {
   "cell_type": "markdown",
   "metadata": {},
   "source": [
    "## Gradient projection"
   ]
  },
  {
   "cell_type": "code",
   "execution_count": 163,
   "metadata": {
    "collapsed": false,
    "deletable": true,
    "editable": true
   },
   "outputs": [],
   "source": [
    "def _dot(a, b):\n",
    "    return sum(np.dot(x.ravel(), y.ravel()) for x, y in zip(a, b))\n",
    "\n",
    "class ExponentialFamilyDistribution:\n",
    "    def __init__(self, *theta):\n",
    "        self.theta = theta\n",
    "        \n",
    "    def A(self):\n",
    "        return NotImplemented\n",
    "    \n",
    "    def T(self, x):\n",
    "        return NotImplemented\n",
    "    \n",
    "    def h(self, x):\n",
    "        return NotImplemented\n",
    "    \n",
    "    def pdf(self, *x):\n",
    "        return self.h(*x) * np.exp(_dot(self.theta, self.T(*x)) - self.A())\n",
    "    \n",
    "    def sample(self):\n",
    "        raise NotImplemented\n",
    "    \n",
    "\n",
    "class GaussianDistribution(ExponentialFamilyDistribution):\n",
    "    def __init__(self, *theta):\n",
    "        super().__init__(*theta)\n",
    "        self.k = theta[0].shape[0]\n",
    "    \n",
    "    def A(self):\n",
    "        return 0.5 * _dot(self.theta, self.theta)\n",
    "    \n",
    "    def grad_A(self):\n",
    "        return self.theta\n",
    "    \n",
    "    def T(self, x):\n",
    "        return x\n",
    "    \n",
    "    def h(self, x):\n",
    "        return (2 * np.pi) ** (-self.k / 2) * np.exp(-0.5 * _dot(x, x))\n",
    "        \n",
    "    def sample(self):\n",
    "        return (np.random.normal(loc=self.theta[0]), )"
   ]
  },
  {
   "cell_type": "code",
   "execution_count": 164,
   "metadata": {
    "collapsed": true
   },
   "outputs": [],
   "source": [
    "def projector(x):\n",
    "    return np.clip(x, -0.5, 0.5)"
   ]
  },
  {
   "cell_type": "code",
   "execution_count": 165,
   "metadata": {
    "collapsed": true,
    "deletable": true,
    "editable": true
   },
   "outputs": [],
   "source": [
    "def projected_gradient(obj, f_class, projector, C, theta0, n_iters=5000):\n",
    "    estimations = []\n",
    "    thetas = [theta0]\n",
    "    \n",
    "    cumsum = 0\n",
    "    theta = theta0\n",
    "    for i in range(1, n_iters + 1):\n",
    "        f = f_class(theta)\n",
    "        x = f.sample()\n",
    "        cumsum += obj(x) / f.pdf(x)\n",
    "        estimations.append(cumsum / i)\n",
    "        \n",
    "        tmp = (obj(x) / f.pdf(x)) ** 2\n",
    "        g = tuple(tmp * (a - b) for a, b in zip(f.grad_A(), f.T(x)))\n",
    "        theta = projector(theta - C / i ** 0.5 * g[0])\n",
    "        thetas.append((theta, ))\n",
    "        \n",
    "    return thetas, estimations"
   ]
  },
  {
   "cell_type": "code",
   "execution_count": 166,
   "metadata": {
    "collapsed": true
   },
   "outputs": [],
   "source": [
    "obj = lambda x: 1 <= _dot(x, x) <= 4"
   ]
  },
  {
   "cell_type": "code",
   "execution_count": 178,
   "metadata": {
    "collapsed": false
   },
   "outputs": [
    {
     "name": "stdout",
     "output_type": "stream",
     "text": [
      "CPU times: user 1.29 s, sys: 33.7 ms, total: 1.32 s\n",
      "Wall time: 1.31 s\n"
     ]
    }
   ],
   "source": [
    "%%time\n",
    "thetas, estimations = projected_gradient(obj, GaussianDistribution, projector, \n",
    "                                         0.001, np.array([-3, 10]), n_iters = 15000)"
   ]
  },
  {
   "cell_type": "code",
   "execution_count": 179,
   "metadata": {
    "collapsed": false
   },
   "outputs": [
    {
     "data": {
      "text/plain": [
       "[<matplotlib.lines.Line2D at 0x10c976198>]"
      ]
     },
     "execution_count": 179,
     "metadata": {},
     "output_type": "execute_result"
    },
    {
     "data": {
      "image/png": "[encoded data removed]",
      "text/plain": [
       "<matplotlib.figure.Figure at 0x10cf3be10>"
      ]
     },
     "metadata": {},
     "output_type": "display_data"
    }
   ],
   "source": [
    "plt.figure(figsize=(6, 3))\n",
    "plt.plot(np.array(estimations))\n",
    "plt.plot(range(15000), 3 * np.pi * np.ones(15000))"
   ]
  },
  {
   "cell_type": "markdown",
   "metadata": {},
   "source": [
    "## Mirror descent"
   ]
  },
  {
   "cell_type": "markdown",
   "metadata": {},
   "source": [
    "We first assume that $w(x) = x \\log x$"
   ]
  },
  {
   "cell_type": "code",
   "execution_count": 169,
   "metadata": {
    "collapsed": true
   },
   "outputs": [],
   "source": [
    "def mirror (x, g, alpha, dgf = 'xlogx'):\n",
    "    n = len(x)\n",
    "    norm_const = x * np.exp(- alpha * g).sum()\n",
    "    updated_x = [x[i] * np.exp(- alpha * g[i]) for i in range(n)] / norm_const\n",
    "    return updated_x"
   ]
  },
  {
   "cell_type": "code",
   "execution_count": 170,
   "metadata": {
    "collapsed": true
   },
   "outputs": [],
   "source": [
    "def mirror_update(obj, f_class, mirror, C, theta0, n_iters=5000):\n",
    "    estimations = []\n",
    "    thetas = [theta0]\n",
    "    \n",
    "    cumsum = 0\n",
    "    theta = theta0\n",
    "    for i in range(1, n_iters + 1):\n",
    "        f = f_class(theta)\n",
    "        x = f.sample()\n",
    "        cumsum += obj(x) / f.pdf(x)\n",
    "        estimations.append(cumsum / i)\n",
    "        \n",
    "        tmp = (obj(x) / f.pdf(x)) ** 2\n",
    "        g = tuple(tmp * (a - b) for a, b in zip(f.grad_A(), f.T(x)))\n",
    "        alpha = C / i ** 0.5\n",
    "        theta = mirror(theta, g[0], alpha) #  - C / i ** 0.5 * \n",
    "        thetas.append((theta, ))\n",
    "        \n",
    "    return thetas, estimations"
   ]
  },
  {
   "cell_type": "code",
   "execution_count": 171,
   "metadata": {
    "collapsed": false
   },
   "outputs": [],
   "source": [
    "thetas, estimations = mirror_update(obj, GaussianDistribution, mirror, \n",
    "                                         0.01, np.array([-3, 10]))"
   ]
  },
  {
   "cell_type": "code",
   "execution_count": 172,
   "metadata": {
    "collapsed": true
   },
   "outputs": [],
   "source": [
    "obj = lambda x: 1 <= _dot(x, x) <= 4\n",
    "#obj = lambda x: np.linalg.norm(x) <= 1"
   ]
  },
  {
   "cell_type": "code",
   "execution_count": 180,
   "metadata": {
    "collapsed": false
   },
   "outputs": [],
   "source": [
    "thetas, estimations = mirror_update(obj, GaussianDistribution, mirror, \n",
    "                                         0.001, np.array([-3, 10]), n_iters=15000)"
   ]
  },
  {
   "cell_type": "code",
   "execution_count": 181,
   "metadata": {
    "collapsed": false
   },
   "outputs": [
    {
     "data": {
      "text/plain": [
       "[<matplotlib.lines.Line2D at 0x10cbf6390>]"
      ]
     },
     "execution_count": 181,
     "metadata": {},
     "output_type": "execute_result"
    },
    {
     "data": {
      "image/png": "[encoded data removed]",
      "text/plain": [
       "<matplotlib.figure.Figure at 0x10ce15c50>"
      ]
     },
     "metadata": {},
     "output_type": "display_data"
    }
   ],
   "source": [
    "plt.figure(figsize=(6, 3))\n",
    "plt.plot(np.array(estimations))\n",
    "plt.plot(range(15000), 3 * np.pi * np.ones(15000))"
   ]
  },
  {
   "cell_type": "code",
   "execution_count": null,
   "metadata": {
    "collapsed": true
   },
   "outputs": [],
   "source": []
  }
 ],
 "metadata": {
  "anaconda-cloud": {},
  "kernelspec": {
   "display_name": "Python 3",
   "language": "python",
   "name": "python3"
  },
  "language_info": {
   "codemirror_mode": {
    "name": "ipython",
    "version": 3
   },
   "file_extension": ".py",
   "mimetype": "text/x-python",
   "name": "python",
   "nbconvert_exporter": "python",
   "pygments_lexer": "ipython3",
   "version": "3.5.1"
  }
 },
 "nbformat": 4,
 "nbformat_minor": 2
}
