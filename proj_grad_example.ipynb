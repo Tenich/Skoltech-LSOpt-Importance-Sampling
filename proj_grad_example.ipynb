{
 "cells": [
  {
   "cell_type": "code",
   "execution_count": 66,
   "metadata": {
    "collapsed": false,
    "deletable": true,
    "editable": true
   },
   "outputs": [],
   "source": [
    "import numpy as np\n",
    "import scipy as sp\n",
    "import scipy.stats\n",
    "\n",
    "import seaborn \n",
    "\n",
    "%matplotlib inline\n",
    "import matplotlib.pyplot as plt\n",
    "\n",
    "from exp_family import GaussianDistribution\n",
    "from projectors import BoxProjector, EigenBoxProjector, CoordProjector\n",
    "from optimizers import projected_gradient"
   ]
  },
  {
   "cell_type": "code",
   "execution_count": 41,
   "metadata": {
    "collapsed": true,
    "deletable": true,
    "editable": true
   },
   "outputs": [],
   "source": [
    "np.random.seed(122)\n",
    "obj = lambda x: x[0] * sp.stats.multivariate_normal.pdf(x, mean=[14, 14], cov=np.diag([1.2, 1.2]))\n",
    "projector = CoordProjector(BoxProjector(-5, 5), EigenBoxProjector(1, 15))"
   ]
  },
  {
   "cell_type": "code",
   "execution_count": 42,
   "metadata": {
    "collapsed": false,
    "deletable": true,
    "editable": true
   },
   "outputs": [
    {
     "name": "stdout",
     "output_type": "stream",
     "text": [
      "\n"
     ]
    }
   ],
   "source": [
    "thetas, estimations = projected_gradient(obj, GaussianDistribution, projector, \n",
    "                                         1e-6, (np.array([2, 2]), np.eye(2)), n_iters=2 * 10 ** 5)"
   ]
  },
  {
   "cell_type": "code",
   "execution_count": 43,
   "metadata": {
    "collapsed": false
   },
   "outputs": [
    {
     "data": {
      "text/plain": [
       "[<matplotlib.lines.Line2D at 0x11bc9f750>,\n",
       " <matplotlib.lines.Line2D at 0x11bc9f950>]"
      ]
     },
     "execution_count": 43,
     "metadata": {},
     "output_type": "execute_result"
    },
    {
     "data": {
      "image/png": "[encoded data removed]",
      "text/plain": [
       "<matplotlib.figure.Figure at 0x119494d50>"
      ]
     },
     "metadata": {},
     "output_type": "display_data"
    }
   ],
   "source": [
    "# plot mu history, should converge to 4,4\n",
    "mu = [np.linalg.pinv(x[1]).dot(x[0]) for x in thetas]\n",
    "plt.plot(mu)"
   ]
  },
  {
   "cell_type": "code",
   "execution_count": 44,
   "metadata": {
    "collapsed": false
   },
   "outputs": [
    {
     "data": {
      "text/plain": [
       "(array([ 2.,  2.]), array([[  1.00000000e+00,  -2.23711432e-17],\n",
       "        [ -2.23711432e-17,   1.00000000e+00]]))"
      ]
     },
     "execution_count": 44,
     "metadata": {},
     "output_type": "execute_result"
    }
   ],
   "source": [
    "thetas[-1]"
   ]
  },
  {
   "cell_type": "code",
   "execution_count": 45,
   "metadata": {
    "collapsed": false,
    "deletable": true,
    "editable": true
   },
   "outputs": [
    {
     "data": {
      "image/png": "[encoded data removed]",
      "text/plain": [
       "<matplotlib.figure.Figure at 0x11c8d8650>"
      ]
     },
     "metadata": {},
     "output_type": "display_data"
    }
   ],
   "source": [
    "plt.figure(figsize=(5, 3))\n",
    "plt.plot(np.array(estimations))\n",
    "plt.xscale('log')"
   ]
  },
  {
   "cell_type": "code",
   "execution_count": 46,
   "metadata": {
    "collapsed": false
   },
   "outputs": [
    {
     "data": {
      "text/plain": [
       "[1.1433080378674877e-28,\n",
       " 1.1433023210986275e-28,\n",
       " 1.1432966043869372e-28,\n",
       " 1.1432908877324156e-28,\n",
       " 1.143285171135062e-28,\n",
       " 1.1432794545948755e-28,\n",
       " 1.1432737381118553e-28,\n",
       " 1.1432680216860005e-28,\n",
       " 1.1432623053173101e-28,\n",
       " 1.1432565890057835e-28]"
      ]
     },
     "execution_count": 46,
     "metadata": {},
     "output_type": "execute_result"
    }
   ],
   "source": [
    "estimations[-10:]"
   ]
  },
  {
   "cell_type": "code",
   "execution_count": 62,
   "metadata": {
    "collapsed": false
   },
   "outputs": [
    {
     "data": {
      "text/plain": [
       "120.0"
      ]
     },
     "execution_count": 62,
     "metadata": {},
     "output_type": "execute_result"
    }
   ],
   "source": [
    "scipy.special.gamma(6)"
   ]
  },
  {
   "cell_type": "code",
   "execution_count": 63,
   "metadata": {
    "collapsed": false
   },
   "outputs": [
    {
     "data": {
      "text/plain": [
       "-0.57721566490153309"
      ]
     },
     "execution_count": 63,
     "metadata": {},
     "output_type": "execute_result"
    }
   ],
   "source": [
    "scipy.special.psi(1)"
   ]
  },
  {
   "cell_type": "code",
   "execution_count": 68,
   "metadata": {
    "collapsed": true
   },
   "outputs": [],
   "source": [
    "def _dot(a, b):\n",
    "    return sum(np.inner(x.ravel(), y.ravel()) for x, y in zip(a, b))\n",
    "\n",
    "\n",
    "class ExponentialFamilyDistribution(object):\n",
    "    def __init__(self, *theta):\n",
    "        self.theta = theta\n",
    "\n",
    "    def A(self):\n",
    "        return NotImplemented\n",
    "\n",
    "    def T(self, x):\n",
    "        return NotImplemented\n",
    "\n",
    "    def h(self, x):\n",
    "        return NotImplemented\n",
    "\n",
    "    def pdf(self, x):\n",
    "        return self.h(x) * np.exp(_dot(self.theta, self.T(x)) - self.A())\n",
    "\n",
    "    def sample(self):\n",
    "        raise NotImplemented"
   ]
  },
  {
   "cell_type": "code",
   "execution_count": 125,
   "metadata": {
    "collapsed": false
   },
   "outputs": [],
   "source": [
    "import numpy as np\n",
    "import scipy as sp\n",
    "\n",
    "class DirichletDistribution(ExponentialFamilyDistribution):\n",
    "    def __init__(self, *theta):\n",
    "        super(DirichletDistribution, self).__init__(*theta)\n",
    "\n",
    "\n",
    "        # thetas are original parameters alpha of dirichlet distribution \n",
    "        self.theta = theta\n",
    "\n",
    "    def A(self):\n",
    "        return np.log(np.sum(sp.special.gamma(self.theta))) - np.log(sp.special.gamma(np.sum(self.theta)))\n",
    "\n",
    "    def grad_A(self):\n",
    "        grad = [sp.special.psi(self.theta[i]) / sp.special.gamma(self.theta[i]) - sp.special.psi(np.sum(self.theta[i])) / sp.special.gamma(np.sum(self.theta[i])) for i in range(len(self.theta))]\n",
    "        return grad\n",
    "\n",
    "    def T(self, x):\n",
    "        return np.log(x)\n",
    "\n",
    "    def h(self, x):\n",
    "        return 1./np.exp(np.log(x).sum())\n",
    "\n",
    "    def sample(self):\n",
    "        return np.random.dirichlet(np.array(self.theta))"
   ]
  },
  {
   "cell_type": "code",
   "execution_count": null,
   "metadata": {
    "collapsed": true
   },
   "outputs": [],
   "source": []
  }
 ],
 "metadata": {
  "anaconda-cloud": {},
  "kernelspec": {
   "display_name": "Python [default]",
   "language": "python",
   "name": "python2"
  },
  "language_info": {
   "codemirror_mode": {
    "name": "ipython",
    "version": 2
   },
   "file_extension": ".py",
   "mimetype": "text/x-python",
   "name": "python",
   "nbconvert_exporter": "python",
   "pygments_lexer": "ipython2",
   "version": "2.7.12"
  },
  "widgets": {
   "state": {
    "69b54893b293450885e9be169196e3d3": {
     "views": [
      {
       "cell_index": 2
      }
     ]
    }
   },
   "version": "1.2.0"
  }
 },
 "nbformat": 4,
 "nbformat_minor": 2
}
