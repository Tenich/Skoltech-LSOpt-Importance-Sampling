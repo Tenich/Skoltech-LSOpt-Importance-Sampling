{
 "cells": [
  {
   "cell_type": "code",
   "execution_count": 187,
   "metadata": {
    "collapsed": true
   },
   "outputs": [],
   "source": [
    "import numpy as np\n",
    "\n",
    "%matplotlib inline\n",
    "import matplotlib.pyplot as plt"
   ]
  },
  {
   "cell_type": "code",
   "execution_count": 207,
   "metadata": {
    "collapsed": false,
    "deletable": true,
    "editable": true
   },
   "outputs": [],
   "source": [
    "def _dot(a, b):\n",
    "    return sum(np.dot(x.ravel(), y.ravel()) for x, y in zip(a, b))\n",
    "\n",
    "class ExponentialFamilyDistribution:\n",
    "    def __init__(self, *theta):\n",
    "        self.theta = theta\n",
    "        \n",
    "    def A(self):\n",
    "        return NotImplemented\n",
    "    \n",
    "    def T(self, x):\n",
    "        return NotImplemented\n",
    "    \n",
    "    def h(self, x):\n",
    "        return NotImplemented\n",
    "    \n",
    "    def pdf(self, *x):\n",
    "        return self.h(*x) * np.exp(_dot(self.theta, self.T(*x)) - self.A())\n",
    "    \n",
    "    def sample(self):\n",
    "        raise NotImplemented\n",
    "    \n",
    "\n",
    "class GaussianDistribution(ExponentialFamilyDistribution):\n",
    "    def __init__(self, *theta):\n",
    "        super().__init__(*theta)\n",
    "        self.k = theta[0].shape[0]\n",
    "    \n",
    "    def A(self):\n",
    "        return 0.5 * _dot(self.theta, self.theta)\n",
    "    \n",
    "    def grad_A(self):\n",
    "        return self.theta\n",
    "    \n",
    "    def T(self, x):\n",
    "        return x\n",
    "    \n",
    "    def h(self, x):\n",
    "        return (2 * np.pi) ** (-self.k / 2) * np.exp(-0.5 * _dot(x, x))\n",
    "        \n",
    "    def sample(self):\n",
    "        return (np.random.normal(loc=self.theta[0]), )"
   ]
  },
  {
   "cell_type": "code",
   "execution_count": 208,
   "metadata": {
    "collapsed": true
   },
   "outputs": [],
   "source": [
    "def projector(x):\n",
    "    return np.clip(x, -0.5, 0.5)"
   ]
  },
  {
   "cell_type": "code",
   "execution_count": 209,
   "metadata": {
    "collapsed": true,
    "deletable": true,
    "editable": true
   },
   "outputs": [],
   "source": [
    "def projected_gradient(obj, f_class, projector, C, theta0, n_iters=1000):\n",
    "    estimations = []\n",
    "    thetas = [theta0]\n",
    "    \n",
    "    cumsum = 0\n",
    "    theta = theta0\n",
    "    for i in range(1, n_iters + 1):\n",
    "        f = f_class(theta)\n",
    "        x = f.sample()\n",
    "        cumsum += obj(x) / f.pdf(x)\n",
    "        estimations.append(cumsum / i)\n",
    "        \n",
    "        tmp = (obj(x) / f.pdf(x)) ** 2\n",
    "        g = tuple(tmp * (a - b) for a, b in zip(f.grad_A(), f.T(x)))\n",
    "        theta = projector(theta - C / i ** 0.5 * g[0])\n",
    "        thetas.append((theta, ))\n",
    "        \n",
    "    return thetas, estimations"
   ]
  },
  {
   "cell_type": "code",
   "execution_count": 210,
   "metadata": {
    "collapsed": true
   },
   "outputs": [],
   "source": [
    "obj = lambda x: _dot(x, x) <= 1"
   ]
  },
  {
   "cell_type": "code",
   "execution_count": 211,
   "metadata": {
    "collapsed": false
   },
   "outputs": [],
   "source": [
    "thetas, estimations = projected_gradient(obj, GaussianDistribution, projector, \n",
    "                                         0.001, np.array([-3, 10]), n_iters=10 ** 5)"
   ]
  },
  {
   "cell_type": "code",
   "execution_count": 212,
   "metadata": {
    "collapsed": false
   },
   "outputs": [
    {
     "data": {
      "text/plain": [
       "[<matplotlib.lines.Line2D at 0x7f010558fb70>]"
      ]
     },
     "execution_count": 212,
     "metadata": {},
     "output_type": "execute_result"
    },
    {
     "data": {
      "image/png": "[encoded data removed]",
      "text/plain": [
       "<matplotlib.figure.Figure at 0x7f0103414cf8>"
      ]
     },
     "metadata": {},
     "output_type": "display_data"
    }
   ],
   "source": [
    "plt.figure(figsize=(10, 6))\n",
    "plt.plot(np.array(estimations) - np.pi)"
   ]
  },
  {
   "cell_type": "code",
   "execution_count": 158,
   "metadata": {
    "collapsed": false,
    "deletable": true,
    "editable": true
   },
   "outputs": [
    {
     "data": {
      "text/plain": [
       "[<matplotlib.lines.Line2D at 0x7f01042a2a90>]"
      ]
     },
     "execution_count": 158,
     "metadata": {},
     "output_type": "execute_result"
    },
    {
     "data": {
      "image/png": "[encoded data removed]",
      "text/plain": [
       "<matplotlib.figure.Figure at 0x7f01058d70b8>"
      ]
     },
     "metadata": {},
     "output_type": "display_data"
    }
   ],
   "source": [
    "plt.plot([np.dot(x, x) for x in thetas[1:]])"
   ]
  }
 ],
 "metadata": {
  "kernelspec": {
   "display_name": "Python 3",
   "language": "python",
   "name": "python3"
  },
  "language_info": {
   "codemirror_mode": {
    "name": "ipython",
    "version": 3
   },
   "file_extension": ".py",
   "mimetype": "text/x-python",
   "name": "python",
   "nbconvert_exporter": "python",
   "pygments_lexer": "ipython3",
   "version": "3.6.0"
  }
 },
 "nbformat": 4,
 "nbformat_minor": 2
}
