{
 "cells": [
  {
   "cell_type": "code",
   "execution_count": 1,
   "metadata": {
    "collapsed": true,
    "deletable": true,
    "editable": true
   },
   "outputs": [],
   "source": [
    "import numpy as np\n",
    "import scipy as sp\n",
    "import scipy.stats\n",
    "\n",
    "from tqdm import tqdm_notebook\n",
    "\n",
    "%matplotlib inline\n",
    "import matplotlib.pyplot as plt"
   ]
  },
  {
   "cell_type": "code",
   "execution_count": 50,
   "metadata": {
    "collapsed": false,
    "deletable": true,
    "editable": true
   },
   "outputs": [],
   "source": [
    "def _dot(a, b):\n",
    "    return sum(np.inner(x.ravel(), y.ravel()) for x, y in zip(a, b))\n",
    "\n",
    "class ExponentialFamilyDistribution:\n",
    "    def __init__(self, *theta):\n",
    "        self.theta = theta\n",
    "        \n",
    "    def A(self):\n",
    "        return NotImplemented\n",
    "    \n",
    "    def T(self, x):\n",
    "        return NotImplemented\n",
    "    \n",
    "    def h(self, x):\n",
    "        return NotImplemented\n",
    "    \n",
    "    def pdf(self, x):\n",
    "        return self.h(x) * np.exp(_dot(self.theta, self.T(x)) - self.A())\n",
    "    \n",
    "    def sample(self):\n",
    "        raise NotImplemented\n",
    "    \n",
    "class GaussianDistribution(ExponentialFamilyDistribution):\n",
    "    def __init__(self, *theta):\n",
    "        super().__init__(*theta)\n",
    "        m, S = theta\n",
    "        self.m = m\n",
    "        self.S = S\n",
    "        self.cov = np.linalg.pinv(S)\n",
    "        self.mu = self.cov.dot(m)\n",
    "        self.k = m.shape[0]\n",
    "    \n",
    "    def A(self):\n",
    "        return 0.5 * (np.inner(self.m, self.cov.dot(self.m)) - np.log(np.linalg.det(self.S)))\n",
    "    \n",
    "    def grad_A(self):\n",
    "        return (self.mu, -0.5 * (np.outer(self.mu, self.mu) + self.cov))\n",
    "    \n",
    "    def T(self, x):\n",
    "        return (x, -0.5 * np.outer(x, x))\n",
    "    \n",
    "    def h(self, x):\n",
    "        return (2 * np.pi) ** (-self.k / 2.)\n",
    "        \n",
    "    def sample(self):\n",
    "        return np.random.multivariate_normal(mean=self.mu, cov=self.cov)"
   ]
  },
  {
   "cell_type": "code",
   "execution_count": 32,
   "metadata": {
    "collapsed": true,
    "deletable": true,
    "editable": true
   },
   "outputs": [],
   "source": [
    "class DummyProjector(object):\n",
    "    def __call__(self, *x):\n",
    "        raise NotImplemented\n",
    "\n",
    "class EyeProjector(DummyProjector):\n",
    "    def __call__(self, x):\n",
    "        return x\n",
    "    \n",
    "class CoordProjector(DummyProjector):\n",
    "    def __init__(self, *coord_projectors):\n",
    "        self.projectors = coord_projectors\n",
    "    \n",
    "    def __call__(self, *x):\n",
    "        return tuple(proj(c) for c, proj in zip(x, self.projectors))\n",
    "\n",
    "class BoxProjector(DummyProjector):\n",
    "    def __init__(self, min_values, max_values):\n",
    "        self.min = min_values\n",
    "        self.max = max_values\n",
    "        \n",
    "    def __call__(self, x):\n",
    "        return np.clip(x, a_min=self.min, a_max = self.max)\n",
    "    \n",
    "class EigenBoxProjector(BoxProjector):\n",
    "    def __call__(self, x):\n",
    "        eig, v = np.linalg.eig(x)\n",
    "        eig = np.clip(eig, a_min=self.min, a_max = self.max) \n",
    "        return v.dot(np.diag(eig)).dot(v.T)"
   ]
  },
  {
   "cell_type": "code",
   "execution_count": 33,
   "metadata": {
    "collapsed": false,
    "deletable": true,
    "editable": true
   },
   "outputs": [],
   "source": [
    "def step(old_theta, step_size, grad):\n",
    "    return tuple(t - step_size * g for t, g in zip(old_theta, grad))\n",
    "\n",
    "def projected_gradient(obj, f_class, projector, C, theta0, n_iters=1000):\n",
    "    estimations = []\n",
    "    thetas = [theta0]\n",
    "    \n",
    "    cumsum = 0\n",
    "    theta = theta0\n",
    "    for i in tqdm_notebook(range(1, n_iters + 1)):\n",
    "        f = f_class(*theta)\n",
    "        x = f.sample()\n",
    "        \n",
    "        cumsum += obj(x) / f.pdf(x)\n",
    "        estimations.append(cumsum / i)\n",
    "        \n",
    "        mult = (obj(x) / f.pdf(x)) ** 2\n",
    "        g = tuple(mult * (a - b) for a, b in zip(f.grad_A(), f.T(x)))        \n",
    "        theta = projector(*step(theta, C / i ** 0.5, g))\n",
    "        thetas.append(theta)\n",
    "        \n",
    "    return thetas, estimations"
   ]
  },
  {
   "cell_type": "code",
   "execution_count": 34,
   "metadata": {
    "collapsed": true,
    "deletable": true,
    "editable": true
   },
   "outputs": [],
   "source": [
    "obj = lambda x: sp.stats.multivariate_normal.pdf(x, mean=[0, 0], cov=np.diag([1, 1]))"
   ]
  },
  {
   "cell_type": "code",
   "execution_count": 35,
   "metadata": {
    "collapsed": false
   },
   "outputs": [],
   "source": [
    "projector = CoordProjector(BoxProjector(-1, 1), EigenBoxProjector(1, 15))"
   ]
  },
  {
   "cell_type": "code",
   "execution_count": 36,
   "metadata": {
    "collapsed": false,
    "deletable": true,
    "editable": true
   },
   "outputs": [
    {
     "data": {
      "application/vnd.jupyter.widget-view+json": {
       "model_id": "f5588d924a614754a4211c64a2f39c08"
      }
     },
     "metadata": {},
     "output_type": "display_data"
    },
    {
     "name": "stdout",
     "output_type": "stream",
     "text": [
      "\n"
     ]
    }
   ],
   "source": [
    "thetas, estimations = projected_gradient(obj, GaussianDistribution, projector, \n",
    "                                         1e-2, (np.array([0, 0]), np.eye(2)), n_iters=10 ** 5)"
   ]
  },
  {
   "cell_type": "code",
   "execution_count": 51,
   "metadata": {
    "collapsed": false,
    "deletable": true,
    "editable": true
   },
   "outputs": [
    {
     "data": {
      "text/plain": [
       "[<matplotlib.lines.Line2D at 0x7fec9d7465c0>]"
      ]
     },
     "execution_count": 51,
     "metadata": {},
     "output_type": "execute_result"
    },
    {
     "data": {
      "image/png": "[encoded data removed]",
      "text/plain": [
       "<matplotlib.figure.Figure at 0x7feca7ad9a20>"
      ]
     },
     "metadata": {},
     "output_type": "display_data"
    }
   ],
   "source": [
    "plt.figure(figsize=(10, 6))\n",
    "plt.plot(np.array(estimations))"
   ]
  },
  {
   "cell_type": "code",
   "execution_count": 67,
   "metadata": {
    "collapsed": false
   },
   "outputs": [
    {
     "data": {
      "text/plain": [
       "4.9197164978975229e-08"
      ]
     },
     "execution_count": 67,
     "metadata": {},
     "output_type": "execute_result"
    }
   ],
   "source": [
    "f = lambda x: GaussianDistribution(x[:2], x[2:].reshape((2, 2))).A()\n",
    "g =  lambda x: np.concatenate([x.ravel() for x in GaussianDistribution(x[:2], x[2:].reshape((2, 2))).grad_A()])\n",
    "\n",
    "scipy.optimize.check_grad(f, g, np.array([np.random.random(), np.random.random(), 100, 0, 0, 100]))"
   ]
  }
 ],
 "metadata": {
  "kernelspec": {
   "display_name": "Python 3",
   "language": "python",
   "name": "python3"
  },
  "language_info": {
   "codemirror_mode": {
    "name": "ipython",
    "version": 3
   },
   "file_extension": ".py",
   "mimetype": "text/x-python",
   "name": "python",
   "nbconvert_exporter": "python",
   "pygments_lexer": "ipython3",
   "version": "3.6.0"
  }
 },
 "nbformat": 4,
 "nbformat_minor": 2
}
